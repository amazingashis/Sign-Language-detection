{
 "cells": [
  {
   "cell_type": "code",
   "execution_count": 3,
   "id": "exposed-wesley",
   "metadata": {},
   "outputs": [],
   "source": [
    "import tensorflow as tf"
   ]
  },
  {
   "cell_type": "code",
   "execution_count": null,
   "id": "subtle-resolution",
   "metadata": {},
   "outputs": [],
   "source": [
    "keras_model = tf.keras.models.load_model('English_Alphabet_Detection_Model.h5')\n",
    "converter = tf.lite.TFLiteConverter.from_keras_model(keras_model)\n",
    "model = converter.convert()\n",
    "file = open( 'English_Alphabet_Detection_Model_Lite.tflite' , 'wb' ) \n",
    "file.write( model )"
   ]
  }
 ],
 "metadata": {
  "kernelspec": {
   "display_name": "Python 3",
   "language": "python",
   "name": "python3"
  },
  "language_info": {
   "codemirror_mode": {
    "name": "ipython",
    "version": 3
   },
   "file_extension": ".py",
   "mimetype": "text/x-python",
   "name": "python",
   "nbconvert_exporter": "python",
   "pygments_lexer": "ipython3",
   "version": "3.7.6"
  }
 },
 "nbformat": 4,
 "nbformat_minor": 5
}
