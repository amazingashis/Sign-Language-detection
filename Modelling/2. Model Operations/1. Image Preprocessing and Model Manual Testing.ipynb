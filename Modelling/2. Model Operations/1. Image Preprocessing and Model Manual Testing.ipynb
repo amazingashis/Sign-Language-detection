{
 "cells": [
  {
   "cell_type": "code",
   "execution_count": 1,
   "id": "derived-extraction",
   "metadata": {},
   "outputs": [
    {
     "name": "stderr",
     "output_type": "stream",
     "text": [
      "Using TensorFlow backend.\n"
     ]
    }
   ],
   "source": [
    "import cv2\n",
    "import numpy as np\n",
    "from tensorflow.keras.models import load_model\n",
    "from keras.preprocessing import image\n",
    "from PIL import Image"
   ]
  },
  {
   "cell_type": "code",
   "execution_count": 2,
   "id": "copyrighted-mechanics",
   "metadata": {},
   "outputs": [],
   "source": [
    "def image_preprocessor(image_path):\n",
    "    # load the image, convert it to grayscale, and blur it slightly\n",
    "    image = cv2.imread(image_path)\n",
    "    image = cv2.flip(image, 1)\n",
    "    gray = cv2.cvtColor(image, cv2.COLOR_BGR2HSV)\n",
    "    gray = cv2.GaussianBlur(gray, (5, 5), 0)\n",
    "    # threshold the image, then perform a series of erosions +\n",
    "    # dilations to remove any small regions of noise\n",
    "    thresh = cv2.threshold(gray, 45, 255, cv2.THRESH_BINARY)[1]\n",
    "    thresh = cv2.erode(thresh, None, iterations=2)\n",
    "    thresh = cv2.dilate(thresh, None, iterations=2)\n",
    "\n",
    "    gray = cv2.cvtColor(thresh, cv2.COLOR_BGR2GRAY)\n",
    "    thresh = 127\n",
    "    im_bw = cv2.threshold(gray, thresh, 255, cv2.THRESH_BINARY)[1]\n",
    "    cv2.imwrite('mod_' +image_path, im_bw)"
   ]
  },
  {
   "cell_type": "code",
   "execution_count": null,
   "id": "extra-paste",
   "metadata": {},
   "outputs": [],
   "source": []
  },
  {
   "cell_type": "code",
   "execution_count": 3,
   "id": "determined-landing",
   "metadata": {},
   "outputs": [],
   "source": [
    "classifier = load_model('English_Alphabet_Detection_Model_V2.h5')\n",
    "alphabets = ['A','B','C','D','E','F','G','H','I','J','K','L','M','N','O','P','Q','R','S','T','U','V','W','X','Y','Z']    "
   ]
  },
  {
   "cell_type": "code",
   "execution_count": 4,
   "id": "governing-malta",
   "metadata": {},
   "outputs": [],
   "source": [
    "def predictor(mod_image_path):\n",
    "    test_image = image.load_img(mod_image_path, target_size=(64, 64))\n",
    "    test_image = image.img_to_array(test_image)\n",
    "    test_image = np.expand_dims(test_image, axis = 0)\n",
    "    #print(test_image.shape)\n",
    "    result = classifier.predict(test_image)\n",
    "    result = result[0]\n",
    "    value = 'null'\n",
    "    for i in range(len(result)):\n",
    "        if result[i] == 1:\n",
    "            value = i\n",
    "            break\n",
    "    print(alphabets[i])"
   ]
  },
  {
   "cell_type": "code",
   "execution_count": 5,
   "id": "threaded-ordinary",
   "metadata": {},
   "outputs": [
    {
     "name": "stdout",
     "output_type": "stream",
     "text": [
      "L\n"
     ]
    }
   ],
   "source": [
    "image_preprocessor('3.png')\n",
    "predictor('mod_3.png')"
   ]
  },
  {
   "cell_type": "code",
   "execution_count": null,
   "id": "periodic-liabilities",
   "metadata": {},
   "outputs": [],
   "source": []
  },
  {
   "cell_type": "code",
   "execution_count": null,
   "id": "pregnant-jewelry",
   "metadata": {},
   "outputs": [],
   "source": []
  },
  {
   "cell_type": "code",
   "execution_count": null,
   "id": "imported-medium",
   "metadata": {},
   "outputs": [],
   "source": []
  },
  {
   "cell_type": "code",
   "execution_count": null,
   "id": "above-bleeding",
   "metadata": {},
   "outputs": [],
   "source": []
  },
  {
   "cell_type": "code",
   "execution_count": null,
   "id": "australian-munich",
   "metadata": {},
   "outputs": [],
   "source": [
    "# import the necessary packages\n",
    "import imutils\n",
    "import cv2\n",
    "# load the image, convert it to grayscale, and blur it slightly\n",
    "image = cv2.imread(\"2.png\")\n",
    "image = cv2.flip(image, 1)\n",
    "gray = cv2.cvtColor(image, cv2.COLOR_BGR2HSV)\n",
    "gray = cv2.GaussianBlur(gray, (5, 5), 0)\n",
    "# threshold the image, then perform a series of erosions +\n",
    "# dilations to remove any small regions of noise\n",
    "thresh = cv2.threshold(gray, 45, 255, cv2.THRESH_BINARY)[1]\n",
    "thresh = cv2.erode(thresh, None, iterations=2)\n",
    "thresh = cv2.dilate(thresh, None, iterations=2)\n",
    "\n",
    "gray = cv2.cvtColor(thresh, cv2.COLOR_BGR2GRAY)\n",
    "thresh = 127\n",
    "im_bw = cv2.threshold(gray, thresh, 255, cv2.THRESH_BINARY)[1]\n",
    "cv2.imwrite('mod_2.png', im_bw)"
   ]
  },
  {
   "cell_type": "code",
   "execution_count": null,
   "id": "competent-sequence",
   "metadata": {},
   "outputs": [],
   "source": [
    "test_image = image.load_img('mod_1.png', target_size=(64, 64))"
   ]
  },
  {
   "cell_type": "code",
   "execution_count": null,
   "id": "addressed-banks",
   "metadata": {},
   "outputs": [],
   "source": [
    "%pylab inline\n",
    "import matplotlib.pyplot as plt\n",
    "import matplotlib.image as mpimg\n",
    "imgplot = plt.imshow(test_image)\n",
    "plt.show()"
   ]
  },
  {
   "cell_type": "code",
   "execution_count": null,
   "id": "driving-transport",
   "metadata": {},
   "outputs": [],
   "source": [
    "from PIL import Image\n",
    "# My image is a 200x374 jpeg that is 102kb large\n",
    "foo = Image.open(\"mod_1.png\")\n",
    "\n",
    "foo = foo.resize((64, 64),Image.ANTIALIAS)\n",
    "foo.save(\"mod_11.png\",quality=95)\n",
    "#foo.save(\"path\\\\to\\\\save\\\\image_scaled_opt.jpg\",optimize=True,quality=95)\n",
    "# The saved downsized image size is 22.9kb"
   ]
  },
  {
   "cell_type": "code",
   "execution_count": null,
   "id": "victorian-section",
   "metadata": {},
   "outputs": [],
   "source": [
    "%pylab inline\n",
    "import matplotlib.pyplot as plt\n",
    "import matplotlib.image as mpimg\n",
    "imgplot = plt.imshow(foo)\n",
    "plt.show()"
   ]
  },
  {
   "cell_type": "code",
   "execution_count": null,
   "id": "statutory-arrest",
   "metadata": {},
   "outputs": [],
   "source": []
  }
 ],
 "metadata": {
  "kernelspec": {
   "display_name": "Python 3",
   "language": "python",
   "name": "python3"
  },
  "language_info": {
   "codemirror_mode": {
    "name": "ipython",
    "version": 3
   },
   "file_extension": ".py",
   "mimetype": "text/x-python",
   "name": "python",
   "nbconvert_exporter": "python",
   "pygments_lexer": "ipython3",
   "version": "3.7.6"
  }
 },
 "nbformat": 4,
 "nbformat_minor": 5
}
