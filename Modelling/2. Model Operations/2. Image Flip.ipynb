{
 "cells": [
  {
   "cell_type": "code",
   "execution_count": 2,
   "id": "running-transsexual",
   "metadata": {},
   "outputs": [],
   "source": [
    "import imutils\n",
    "import cv2\n",
    "from PIL import Image"
   ]
  },
  {
   "cell_type": "code",
   "execution_count": null,
   "id": "polar-seventh",
   "metadata": {},
   "outputs": [
    {
     "data": {
      "text/plain": [
       "True"
      ]
     },
     "execution_count": 7,
     "metadata": {},
     "output_type": "execute_result"
    }
   ],
   "source": [
    "# load the image, convert it to grayscale, and blur it slightly\n",
    "image = cv2.imread(\"1.png\")\n",
    "flipped = cv2.flip(image, 1)\n",
    "gray = cv2.cvtColor(flipped, cv2.COLOR_BGR2HSV)\n",
    "gray = cv2.GaussianBlur(gray, (5, 5), 0)\n",
    "# threshold the image, then perform a series of erosions +\n",
    "# dilations to remove any small regions of noise\n",
    "thresh = cv2.threshold(gray, 45, 255, cv2.THRESH_BINARY)[1]\n",
    "thresh = cv2.erode(thresh, None, iterations=2)\n",
    "thresh = cv2.dilate(thresh, None, iterations=2)\n",
    "\n",
    "gray = cv2.cvtColor(thresh, cv2.COLOR_BGR2GRAY)\n",
    "thresh = 127\n",
    "im_bw = cv2.threshold(gray, thresh, 255, cv2.THRESH_BINARY)[1]\n",
    "cv2.imwrite('mod_1.png', im_bw)"
   ]
  },
  {
   "cell_type": "code",
   "execution_count": null,
   "id": "separated-affairs",
   "metadata": {},
   "outputs": [],
   "source": []
  }
 ],
 "metadata": {
  "kernelspec": {
   "display_name": "Python 3",
   "language": "python",
   "name": "python3"
  },
  "language_info": {
   "codemirror_mode": {
    "name": "ipython",
    "version": 3
   },
   "file_extension": ".py",
   "mimetype": "text/x-python",
   "name": "python",
   "nbconvert_exporter": "python",
   "pygments_lexer": "ipython3",
   "version": "3.7.6"
  }
 },
 "nbformat": 4,
 "nbformat_minor": 5
}
